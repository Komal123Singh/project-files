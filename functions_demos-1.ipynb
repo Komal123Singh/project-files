{
 "cells": [
  {
   "cell_type": "code",
   "execution_count": 3,
   "metadata": {},
   "outputs": [
    {
     "data": {
      "text/plain": [
       "'This is function is used to greet the user.'"
      ]
     },
     "execution_count": 3,
     "metadata": {},
     "output_type": "execute_result"
    }
   ],
   "source": [
    "#Python-functions\n",
    "\n",
    "def myFun():\n",
    "    \"\"\"This is function is used to greet the user.\"\"\"\n",
    "    print(\"Welcome to Python.....!\")\n",
    "    print(\"We are implementing Functions in Python\")\n",
    "\n",
    "\n",
    "#myFun() #calling the function...\n",
    "myFun.__doc__"
   ]
  },
  {
   "cell_type": "code",
   "execution_count": 5,
   "metadata": {},
   "outputs": [
    {
     "name": "stdout",
     "output_type": "stream",
     "text": [
      "Enter name: Williams\n",
      "Hello :  Williams\n"
     ]
    }
   ],
   "source": [
    "#Function with parameters with no return type\n",
    "\n",
    "def myFun(name):\n",
    "    print(\"Hello : \",name)\n",
    "\n",
    "\n",
    "myFun(input('Enter name: '))"
   ]
  },
  {
   "cell_type": "code",
   "execution_count": 10,
   "metadata": {},
   "outputs": [
    {
     "name": "stdout",
     "output_type": "stream",
     "text": [
      "Enter 1st subject marks10\n",
      "Enter 2nd subject marks20\n",
      "Enter 3rd subject marks30\n",
      "Result :  Failed\n"
     ]
    }
   ],
   "source": [
    "#Function with parameter\n",
    "def calResult(n1,n2,n3):\n",
    "    total=n1+n2+n3\n",
    "    average=total/3\n",
    "    grade=\"\"\n",
    "    if average >= 50:\n",
    "        grade= \"Passed\"\n",
    "    else:\n",
    "        grade= \"Failed\"\n",
    "        \n",
    "    return grade\n",
    "    \n",
    "s1=int(input('Enter 1st subject marks'))\n",
    "s2=int(input('Enter 2nd subject marks'))\n",
    "s3=int(input('Enter 3rd subject marks'))\n",
    "\n",
    "result =calResult(s1,s2,s3)\n",
    "\n",
    "print(\"Result : \",result)\n"
   ]
  },
  {
   "cell_type": "code",
   "execution_count": 15,
   "metadata": {},
   "outputs": [
    {
     "name": "stdout",
     "output_type": "stream",
     "text": [
      "Enroll for :  Python\n"
     ]
    }
   ],
   "source": [
    "#Parameter with default values:-\n",
    "def myFun(course=\"Python\"):\n",
    "    print(\"Enroll for : \",course)\n",
    "\n",
    "myFun()"
   ]
  },
  {
   "cell_type": "code",
   "execution_count": 19,
   "metadata": {},
   "outputs": [
    {
     "name": "stdout",
     "output_type": "stream",
     "text": [
      "Roll : 101  Name :  John\n"
     ]
    }
   ],
   "source": [
    "#Python- Function with keyword arguments\n",
    "def myFun(roll,name):\n",
    "    print(\"Roll :\",roll,\" Name : \",name)\n",
    "    \n",
    "myFun(name=\"John\",roll=101)"
   ]
  },
  {
   "cell_type": "code",
   "execution_count": 22,
   "metadata": {},
   "outputs": [
    {
     "name": "stdout",
     "output_type": "stream",
     "text": [
      "Value inside num before passing : 10  ID :  140733436699312\n",
      "Incremented value :  11 ID :  140733436699344\n",
      "Value inside num after passing : 10  ID :  140733436699312\n"
     ]
    }
   ],
   "source": [
    "#Python- passing arguments by reference\n",
    "def myFun(arg):\n",
    "    arg=arg+1\n",
    "    print('Incremented value : ',arg,\"ID : \",id(arg))\n",
    "    \n",
    "num=10\n",
    "print(\"Value inside num before passing :\",num,\" ID : \",id(num))\n",
    "myFun(num)\n",
    "print(\"Value inside num after passing :\",num,\" ID : \",id(num))"
   ]
  },
  {
   "cell_type": "code",
   "execution_count": 28,
   "metadata": {},
   "outputs": [
    {
     "name": "stdout",
     "output_type": "stream",
     "text": [
      "Original List before passing  : [10, 20, 30, 40]\n",
      "Modified list inside the function: [10, 20, 30, 40, 50]\n",
      "Original List after passing  : [10, 20, 30, 40, 50]\n",
      "2470096106184\n"
     ]
    }
   ],
   "source": [
    "def myFun(lst):\n",
    "    lst.append(50)\n",
    "    print(\"Modified list inside the function:\",lst)\n",
    "\n",
    "mylist=[10,20,30,40]\n",
    "print(\"Original List before passing  :\",mylist)\n",
    "myFun(mylist)\n",
    "print(\"Original List after passing  :\",mylist)\n",
    "\n",
    "print(id(mylist))"
   ]
  },
  {
   "cell_type": "code",
   "execution_count": null,
   "metadata": {},
   "outputs": [],
   "source": []
  }
 ],
 "metadata": {
  "kernelspec": {
   "display_name": "Python 3",
   "language": "python",
   "name": "python3"
  },
  "language_info": {
   "codemirror_mode": {
    "name": "ipython",
    "version": 3
   },
   "file_extension": ".py",
   "mimetype": "text/x-python",
   "name": "python",
   "nbconvert_exporter": "python",
   "pygments_lexer": "ipython3",
   "version": "3.7.4"
  }
 },
 "nbformat": 4,
 "nbformat_minor": 2
}
