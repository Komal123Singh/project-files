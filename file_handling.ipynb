{
 "cells": [
  {
   "cell_type": "code",
   "execution_count": 7,
   "metadata": {},
   "outputs": [
    {
     "name": "stdout",
     "output_type": "stream",
     "text": [
      "Data saved...!\n"
     ]
    }
   ],
   "source": [
    "f=open(\"d:\\myfile.txt\",\"a\")\n",
    "stud=[102,'John',90.5]\n",
    "for s1 in stud:\n",
    "    f.write(str(s1)+\"\\t\")\n",
    "f.write(\"\\n\")\n",
    "f.close()\n",
    "print('Data saved...!')"
   ]
  },
  {
   "cell_type": "code",
   "execution_count": 9,
   "metadata": {},
   "outputs": [
    {
     "name": "stdout",
     "output_type": "stream",
     "text": [
      "101\tKelly\t90.5\t\n",
      "\n",
      "102\tJohn\t90.5\t\n",
      "\n"
     ]
    }
   ],
   "source": [
    "#File Iterator\n",
    "f=open(\"d:\\myfile.txt\",\"r\")\n",
    "while True:\n",
    "    try:\n",
    "        line =next(f)\n",
    "        print(line)\n",
    "    except StopIteration:\n",
    "        break\n",
    "f.close()      "
   ]
  },
  {
   "cell_type": "code",
   "execution_count": 11,
   "metadata": {},
   "outputs": [
    {
     "name": "stdout",
     "output_type": "stream",
     "text": [
      "101\tKelly\t90.5\t\n",
      "\n",
      "102\tJohn\t90.5\t\n",
      "\n"
     ]
    }
   ],
   "source": [
    "f=open(\"D:\\myfile.txt\",\"r\")\n",
    "line= f.readline()\n",
    "while line != '':\n",
    "    print(line)\n",
    "    line = f.readline()\n",
    "\n",
    "f.close()"
   ]
  },
  {
   "cell_type": "code",
   "execution_count": 12,
   "metadata": {},
   "outputs": [
    {
     "name": "stdout",
     "output_type": "stream",
     "text": [
      "101\tKelly\t90.5\t\n",
      "\n",
      "102\tJohn\t90.5\t\n",
      "\n"
     ]
    }
   ],
   "source": [
    "f=open(\"D:\\myfile.txt\",\"r\")\n",
    "for line in f:\n",
    "    print(line)\n",
    "\n",
    "f.close()"
   ]
  },
  {
   "cell_type": "code",
   "execution_count": 15,
   "metadata": {},
   "outputs": [
    {
     "name": "stdout",
     "output_type": "stream",
     "text": [
      "Kelly\t90.5\t\n",
      "\n",
      "102\tJohn\t90.5\t\n",
      "\n"
     ]
    }
   ],
   "source": [
    "f=open(\"d:\\myfile.txt\",\"r+\")\n",
    "f.seek(4,0)\n",
    "lines =f.readlines()\n",
    "for l in  lines:\n",
    "    print(l)\n",
    "    f.close()"
   ]
  },
  {
   "cell_type": "code",
   "execution_count": 18,
   "metadata": {},
   "outputs": [
    {
     "name": "stdout",
     "output_type": "stream",
     "text": [
      "101\tKelly\n",
      "9\n"
     ]
    }
   ],
   "source": [
    " \n",
    "\n",
    "f=open(\"d:\\myfile.txt\",\"r+\")\n",
    "print(f.read(9))\n",
    "print(f.tell())"
   ]
  },
  {
   "cell_type": "code",
   "execution_count": 19,
   "metadata": {},
   "outputs": [
    {
     "name": "stdout",
     "output_type": "stream",
     "text": [
      "Binary data saved...!\n"
     ]
    }
   ],
   "source": [
    "# reading & writing  to a Binary in Python \n",
    "f=open(\"d:\\myfile2.bin\",\"wb\")\n",
    "marks=[56,78,89,90,60]\n",
    "arr=bytearray(marks)\n",
    "f.write(arr)\n",
    "f.close()\n",
    "print(\"Binary data saved...!\")"
   ]
  },
  {
   "cell_type": "code",
   "execution_count": 20,
   "metadata": {},
   "outputs": [
    {
     "name": "stdout",
     "output_type": "stream",
     "text": [
      "[56, 78, 89, 90, 60]\n"
     ]
    }
   ],
   "source": [
    "f=open(\"d:\\myfile2.bin\",\"rb\")\n",
    "marks=list(f.read())\n",
    "print(marks)\n",
    "f.close()"
   ]
  },
  {
   "cell_type": "code",
   "execution_count": null,
   "metadata": {},
   "outputs": [],
   "source": []
  }
 ],
 "metadata": {
  "kernelspec": {
   "display_name": "Python 3",
   "language": "python",
   "name": "python3"
  },
  "language_info": {
   "codemirror_mode": {
    "name": "ipython",
    "version": 3
   },
   "file_extension": ".py",
   "mimetype": "text/x-python",
   "name": "python",
   "nbconvert_exporter": "python",
   "pygments_lexer": "ipython3",
   "version": "3.7.0"
  }
 },
 "nbformat": 4,
 "nbformat_minor": 2
}
