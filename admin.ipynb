from tkinter import *
import tkinter.messagebox
from tkinter import ttk
import pickle
root=Tk() #main window for GUI Application
root.title("Alpha Inventory Project") #Give title to the main window
root.geometry('1300x1000')
def Exit1():
    res=tkinter.messagebox.askquestion(message="Do You Want To EXIT")
    if res=="yes":
        root.destroy()
def ClearFrame():
    for widget in F2.winfo_children():
        widget.destroy()
def Clear():
    E1.delete(0,END)
    E2.delete(0,END)
    E3.delete(0,END)
    E4.delete(0,END)
    E5.delete(0,END)
    ClearFrame()
def ViewAll():
    for widget in F2.winfo_children():
        widget.destroy()
    try:
        with open("Employee",'rb') as fil:
            Label(F2,text="%s %s %s %s %s %s %s" % (" ID |", " NAME|"," MOBILE |", " EMAIL |", " DESIG |", " DEPT |", "SAL " )).pack()
            Label(F2,text="%s" % "*"*60).pack()
            Rec=pickle.load(fil)
            c=len(Rec)
            for i in Rec:
                Label(F2,text="%s %s %s %s %s %s %s" % (i["ID"]+" |",i["NAME"]+" | ",i["Mob"]+" | ", i["Email"]+" | ", i["Desig"]+" | ",i["DeptID"]+" | ", i["Sal"])).pack()
    except FileNotFoundError:
        Label(F2,text="%s" % "File doesn't exist").pack()
    except EOFError:
        Label(F2,text="%s" % "File doesn't exist").pack()
def AddRec():
    try:
        fil=open("Employee",'ab+')
        if fil.tell()>0:
            fil.seek(0)
            Rec1=pickle.load(fil)
        else:
            Rec1=[]
            Rec={}
        if any(dict.get('ID') == E1.get() for dict in Rec1):
            tkinter.messagebox.showerror(message="Employee Id already exist")
            E1.delete(0,END)
        else:
            Rec["ID"]=E1.get()
        if len(E2.get())<=0:
            tkinter.messagebox.showerror(message="Name not entered")
        else:
            Rec["NAME"]=E2.get()
        if len(E3.get())!=10 or E3.get().isdigit()==False:
            tkinter.messagebox.showerror(message="Please enter valid Mobile No")
        else:
            Rec["Mob"]=E3.get()
        if '@' not in E4.get() or '.' not in E4.get():
            tkinter.messagebox.showerror(message="Enter Valid mail address")
        else:
            Rec["Email"]=E4.get()
        if len(E5.get())==0 or int(E5.get())<=0:
            tkinter.messagebox.showerror(message="Enter Valid Salary address")
        else:
            Rec["Sal"]=int(E5.get())
            Rec["Desig"]=Des.get()
            Rec["DeptID"]=Dept.get()
            Rec1.append(Rec)
            fil.close()
        if len(E1.get())>0 and len(E2.get())>0 and len(E3.get())==10 and E3.get().isdigit()==True and '@' in E4.get() and '.' in E4.get() and len(E5.get())!=0 and int(E5.get())>=0:
            res=tkinter.messagebox.askyesno(message="Please Confirm to update the file")
            if res==True:
                with open("Employee",'wb') as fil: #will open the file for overwriting
                    pickle.dump(Rec1,fil) #Label(F2,text="Record added").pack()
                    Clear()
    except ValueError:
        tkinter.messagebox.showerror(message="Invalid value entered for Salary")
def RemRecord():
    if len(E1.get())==0:
        tkinter.messagebox.showinfo(message="Enter the Employee Id in the field to search for the record")
        ClearFrame()
    try:
        with open("Employee",'rb+') as fil:
            Rec=pickle.load(fil)
            for i in range(0,len(Rec)):
                if Rec[i]["ID"]==E1.get():
                    Label(F2,text="%s" % "Record Found").pack()
                    N=Rec[i]
                    E2.insert(0,N["NAME"])
                    E3.insert(0,N["Mob"])
                    E4.insert(0,N["Email"])
                    E5.insert(0,N["Sal"])
                    if N["DeptID"]=="MGR":
                        Dept.current(0)
                    elif N["DeptID"]=="CLK":
                        Dept.current(1)
                    elif N["DeptID"]=="VP":
                        Dept.current(2)
                    else:
                        Dept.current(3)
                    if N["Desig"]=="HR":
                        Des.current(0)
                    elif N["Desig"]=="IT":
                        Des.current(1)
                    elif N["Desig"]=="SALES":
                        Des.current(2)
                    else:
                        Des.current(3)
                    ch=tkinter.messagebox.askyesno(message="Delete the account")
                    if ch==True:
                        Rec.pop(i)
                        Label(F2,text="%s" % "Record Deleted").pack()
                    break
                else:
                    Label(F2,text="%s" % "Record Not Found").pack()
                fil.seek(0)
                pickle.dump(Rec,fil)
    except FileNotFoundError:
        print(F, "File Doesn't exist")
    except KeyError:
        print("Record Not found")
    except IndexError:
        print("Record Not found")
def Search():
    if len(E1.get())==0:
        tkinter.messagebox.showinfo(message="Enter the Employee Id in the field to search for the record")
        ClearFrame()
    try:
        with open("Employee",'rb') as fil:
            Rec=pickle.load(fil)
            for i in range(0,len(Rec)):
                if Rec[i]["ID"]==E1.get():
                    Label(F2,text="%s" % "Record Found").pack()
                    N=Rec[i]
                    E2.delete(0,END)
                    E2.insert(0,N["NAME"])
                    E3.delete(0,END)
                    E3.insert(0,N["Mob"])
                    E4.delete(0,END)
                    E4.insert(0,N["Email"])
                    E5.delete(0,END)
                    E5.insert(0,N["Sal"])
                if N["DeptID"]=="MGR":
                    Dept.current(0)
                elif N["DeptID"]=="CLK":
                    Dept.current(1)
                elif N["DeptID"]=="VP":
                    Dept.current(2)
                else:
                    Dept.current(3)
                if N["Desig"]=="HR":    
                    Des.current(0)
                elif N["Desig"]=="IT":
                    Des.current(1)
                elif N["Desig"]=="SALES":
                    Des.current(2)
                else:
                    Des.current(3)
                Label(F2,text="%s" % "Record Found",font=('Trebuchet',20)).pack()
                break
            else:
                Label(F2,text="%s" % "Record Not Found").pack()
    except FileNotFoundError:
        print(F, "File Doesn't exist")
    except KeyError:
        print("Record Not found")
    except IndexError:
        print("Record Not found")
def UpdateRec():
    if len(E1.get())==0:
        tkinter.messagebox.showinfo(message="Click on Search to Search and ten update")
        Clear()#ClearFrame()
    try:
        with open("Employee",'rb+') as fil:
            found=-1
            Rec1=pickle.load(fil)
            Rec={}
            for p in Rec1:
                if E1.get()==p["ID"]:
                    found=0
                    if len(E2.get())<=0:
                        tkinter.messagebox.showerror(message="Name not entered")
                    else:
                        p["NAME"]=E2.get()
                    if len(E3.get())!=10 or E3.get().isdigit()==False:
                        tkinter.messagebox.showerror(message="Please enter valid Mobile No")
                    else:
                        p["Mob"]=E3.get()
                    if '@' not in E4.get() or '.' not in E4.get():
                        tkinter.messagebox.showerror(message="Enter Valid mail address")
                    else:
                        p["Email"]=E4.get()
                    if len(E5.get())==0 or int(E5.get())<=0:
                        tkinter.messagebox.showerror(message="Enter Valid Salary address")
                    else:
                        p["Sal"]=int(E5.get())
                        p["Desig"]=Des.get()
                        p["DeptID"]=Dept.get()
                    break
            else:
                Label(F2,text="%s" % "Record Not Found").pack()
            if found==0 and len(E1.get())>0 and len(E2.get())>0 and len(E3.get())==10 and E3.get().isdigit()==True and '@' in E4.get() and '.' in E4.get() and len(E5.get())!=0 and int(E5.get())>=0:
                res=tkinter.messagebox.askyesno(message="Please Confirm to update the file")
                if res==True:
                    fil.seek(0)
                    pickle.dump(Rec1,fil)
                    Label(F2,text="%s" % "Record Updated").pack()
    except EOFError:
        print("Record not Found")
    except FileNotFoundError:
        print(F, "File Doesn't exist")
def Report():
    Clear()
    try:
        with open("Employee",'rb') as fil:
            Rec=pickle.load(fil)
            Label(F2,text="%s %s %s %s %s %s %s" % (" ID | "," NAME |","Basic Salary | "," HRA | "," DA | ", " TAX | ", "GROSS SALARY")).pack()
            Label(F2,text="%s" % "*"*100).pack()
            for i in Rec:
                HRA=round(30*i["Sal"]/100,0)
                DA=round(15*i["Sal"]/100,0)
                TAX=round(((i["Sal"]+HRA+DA)*15/100),0)
                GROSS=HRA+DA+i["Sal"]-TAX
                Label(F2,text= "%s %s %s %s %s %s %s" % (i["ID"]+" | ",i["NAME"]+" | ", str(i["Sal"])+" | ", str(HRA)+" | ", str(DA)+"| ",str(TAX)+" | ", str(GROSS))).pack()
    except FileNotFoundError:
        print("File Doesn't exist")
Label(root, text="Alpha Inventory: Admin Section",font=("Arialbold",30),fg="blue").pack()
F1=Frame(root,borderwidth=3, relief="solid")
F1.pack(side="left", expand=True,fill="both")
F2=Frame(root,borderwidth=3, relief="solid")
F2.pack(side="right", expand=True,fill="both")
Label(F2, text="WELCOME TO ALPHA INVENTORY ADMIN PANEL",font=("Trebuchet",20)).grid(row=0,column=0)
Label(F1, text="EMPLOYEE ID").grid(row=0,column=0)
E1=Entry(F1,bd=4)
E1.grid(row=0,column=1,padx=13,pady=10)
Label(F1, text="EMPLOYEE NAME").grid(row=1,column=0)
E2=Entry(F1,bd=4)
E2.grid(row=1,column=1,padx=13,pady=10)
Label(F1, text="MOBILE").grid(row=2,column=0)
E3=Entry(F1,bd=4)
E3.grid(row=2,column=1,padx=13,pady=10)
Label(F1, text="EMAIL").grid(row=3,column=0)
E4=Entry(F1,bd=4)
E4.grid(row=3,column=1,padx=13,pady=10)
Label(F1, text="DEPARTMENT").grid(row=4,column=0)
Dept=ttk.Combobox(F1)
Dept['values']=('MGR','CLK','VP','PRES')
Dept.current(0)
Dept.grid(row=4,column=1,padx=13,pady=10)
Label(F1, text="DESIGNATION").grid(row=5,column=0)
Des=ttk.Combobox(F1)
Des['values']=('HR','IT','SALES','FIN')
Des.current(0)
Des.grid(row=5,column=1,padx=13,pady=10)
Label(F1, text="SALARY").grid(row=6,column=0)
E5=Entry(F1,bd=4)
E5.grid(row=6,column=1,padx=13,pady=10)
Add=Button(F1, text="ADD RECORD", command=AddRec,padx=13,pady=10)
Add.grid(row=20,column=0,sticky=NSEW,padx=13,pady=10)
Del=Button(F1, text="DELETE RECORD",command=RemRecord)
Del.config(relief=RAISED)
Del.grid(row=20,column=1,sticky=NSEW,padx=13,pady=10)
Upd=Button(F1, text="UPDATE RECORD", command=UpdateRec)
Upd.grid(row=20,column=2,sticky=NSEW,padx=13,pady=10)
Ser=Button(F1, text="SEARCH RECORD", command=Search, padx=13,pady=10)
Ser.grid(row=21,column=0,sticky=NSEW,padx=13,pady=10)
View=Button(F1, text="VIEW ALL",command=ViewAll)
View.grid(row=21,column=1,sticky=NSEW,padx=13,pady=10)
Clr=Button(F1, text="CLEAR",command=Clear)
Clr.grid(row=21,column=2,sticky=NSEW,padx=13,pady=10)
Exit=Button(F1, text="EXIT", command=Exit1, padx=13,pady=10)
Exit.grid(row=22,column=0,sticky=NSEW,padx=13,pady=10)
Sal=Button(F1, text="SALARY GENERATION", command=Report)
Sal.grid(row=22,column=1,sticky=NSEW,padx=13,pady=10)
