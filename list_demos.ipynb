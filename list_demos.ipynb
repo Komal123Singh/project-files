{
 "cells": [
  {
   "cell_type": "code",
   "execution_count": 4,
   "metadata": {},
   "outputs": [
    {
     "name": "stdout",
     "output_type": "stream",
     "text": [
      "[101, 'John', 'Python', 89.5]\n"
     ]
    }
   ],
   "source": [
    "#Python List:-\n",
    "student=[101,\"John\",\"Python\",89.5]\n",
    "\n",
    "print(student)\n",
    "\n",
    "\"\"\"print(\"Roll   : \",student[0])\n",
    "print(\"Name   : \",student[1])\n",
    "print(\"Course : \",student[2])\n",
    "print(\"Marks  : \",student[3])\"\"\""
   ]
  },
  {
   "cell_type": "code",
   "execution_count": 5,
   "metadata": {},
   "outputs": [
    {
     "name": "stdout",
     "output_type": "stream",
     "text": [
      "Old List items : [101, 'John', 'Python', 89.5]\n",
      "Enter updated marks:90\n",
      "New List items : [101, 'John', 'Python', 90.0]\n"
     ]
    }
   ],
   "source": [
    "#Python - List -(modify element)\n",
    "\n",
    "student=[101,\"John\",\"Python\",89.5]\n",
    "print(\"Old List items :\",student)\n",
    "\n",
    "newmarks=float(input('Enter updated marks:'))\n",
    "\n",
    "student[3]=newmarks\n",
    "\n",
    "print('New List items :',student)"
   ]
  },
  {
   "cell_type": "code",
   "execution_count": 8,
   "metadata": {},
   "outputs": [
    {
     "ename": "IndexError",
     "evalue": "list index out of range",
     "output_type": "error",
     "traceback": [
      "\u001b[1;31m---------------------------------------------------------------------------\u001b[0m",
      "\u001b[1;31mIndexError\u001b[0m                                Traceback (most recent call last)",
      "\u001b[1;32m<ipython-input-8-5d4cb8fb77ef>\u001b[0m in \u001b[0;36m<module>\u001b[1;34m\u001b[0m\n\u001b[0;32m      1\u001b[0m \u001b[0mcourse\u001b[0m\u001b[1;33m=\u001b[0m\u001b[1;33m[\u001b[0m\u001b[1;34m\"C\"\u001b[0m\u001b[1;33m,\u001b[0m\u001b[1;34m\"C++\"\u001b[0m\u001b[1;33m,\u001b[0m\u001b[1;34m\"Python\"\u001b[0m\u001b[1;33m]\u001b[0m\u001b[1;33m\u001b[0m\u001b[1;33m\u001b[0m\u001b[0m\n\u001b[1;32m----> 2\u001b[1;33m \u001b[0mprint\u001b[0m\u001b[1;33m(\u001b[0m\u001b[0mcourse\u001b[0m\u001b[1;33m[\u001b[0m\u001b[1;36m3\u001b[0m\u001b[1;33m]\u001b[0m\u001b[1;33m)\u001b[0m\u001b[1;33m\u001b[0m\u001b[1;33m\u001b[0m\u001b[0m\n\u001b[0m",
      "\u001b[1;31mIndexError\u001b[0m: list index out of range"
     ]
    }
   ],
   "source": [
    "course=[\"C\",\"C++\",\"Python\"]\n",
    "print(course[3])"
   ]
  },
  {
   "cell_type": "code",
   "execution_count": 11,
   "metadata": {},
   "outputs": [
    {
     "name": "stdout",
     "output_type": "stream",
     "text": [
      "['C', 'C++', 'Python']\n",
      "course List deleted successfully...!\n"
     ]
    }
   ],
   "source": [
    "#Python - how to delete a List\n",
    "\n",
    "course=[\"C\",\"C++\",\"Python\"]\n",
    "print(course)\n",
    "del course\n",
    "print(\"course List deleted successfully...!\")\n"
   ]
  },
  {
   "cell_type": "code",
   "execution_count": 13,
   "metadata": {},
   "outputs": [
    {
     "name": "stdout",
     "output_type": "stream",
     "text": [
      "[1, 2, 3, 4, 5, 6]\n",
      "[1, 2, 3]\n",
      "[4, 5, 6]\n"
     ]
    }
   ],
   "source": [
    "#Python : List- operators\n",
    "# + (concatenation op.)\n",
    "\n",
    "list1 = [1,2,3]\n",
    "list2 = [4,5,6]\n",
    "\n",
    "print(list1+list2)\n",
    "print(list1)\n",
    "print(list2)"
   ]
  },
  {
   "cell_type": "code",
   "execution_count": 23,
   "metadata": {},
   "outputs": [
    {
     "name": "stdout",
     "output_type": "stream",
     "text": [
      "<class 'int'>\n",
      "<class 'str'>\n",
      "333\n"
     ]
    }
   ],
   "source": [
    "#Python : List- operators\n",
    "# * (repetition op.)\n",
    "\n",
    "list1=[1,2,'3']\n",
    "\n",
    "print(type(list1[1]))\n",
    "print(type(list1[2]))\n",
    "\n",
    "print(list1[2]*3)"
   ]
  },
  {
   "cell_type": "code",
   "execution_count": 25,
   "metadata": {},
   "outputs": [
    {
     "name": "stdout",
     "output_type": "stream",
     "text": [
      "4\n"
     ]
    }
   ],
   "source": [
    "#Python : List- operators\n",
    "# [] (slice op.)\n",
    "\n",
    "list1=[1,2,3,4,5,6]\n",
    "print(list1[-3])"
   ]
  },
  {
   "cell_type": "code",
   "execution_count": 27,
   "metadata": {},
   "outputs": [
    {
     "name": "stdout",
     "output_type": "stream",
     "text": [
      "[2, 3, 4]\n",
      "[1, 2]\n"
     ]
    }
   ],
   "source": [
    "#Python : List- operators\n",
    "# [:] (range op.)\n",
    "\n",
    "list1=[1,2,3,4,5,6]\n",
    "print(list1[1:4])\n",
    "print(list1[:2])"
   ]
  },
  {
   "cell_type": "code",
   "execution_count": 32,
   "metadata": {},
   "outputs": [
    {
     "name": "stdout",
     "output_type": "stream",
     "text": [
      "['o', 'n']\n"
     ]
    }
   ],
   "source": [
    "lst=['P','y','t','h','o','n']\n",
    "print(lst[-2:])"
   ]
  },
  {
   "cell_type": "code",
   "execution_count": 35,
   "metadata": {},
   "outputs": [
    {
     "name": "stdout",
     "output_type": "stream",
     "text": [
      "Python course is available\n"
     ]
    }
   ],
   "source": [
    "#Python : List- operators\n",
    "# in op.\n",
    "\n",
    "course=[\"C\",\"C++\",\"Python\"]\n",
    "\n",
    "if \"Python\" in course:\n",
    "    print(\"Python course is available\")\n",
    "else:\n",
    "     print(\"Python course is not available\")"
   ]
  },
  {
   "cell_type": "code",
   "execution_count": 36,
   "metadata": {},
   "outputs": [
    {
     "name": "stdout",
     "output_type": "stream",
     "text": [
      "Django course is not available\n"
     ]
    }
   ],
   "source": [
    "#Python : List- operators\n",
    "# not in \n",
    "\n",
    "course=[\"C\",\"C++\",\"Python\"]\n",
    "\n",
    "if \"Django\" not in course:\n",
    "    print(\"Django course is not available\")\n",
    "else:\n",
    "     print(\"Django is there\")"
   ]
  },
  {
   "cell_type": "code",
   "execution_count": 37,
   "metadata": {},
   "outputs": [
    {
     "name": "stdout",
     "output_type": "stream",
     "text": [
      "total courses:  3\n"
     ]
    }
   ],
   "source": [
    "#Python- In-built function\n",
    "#len() - used to get the length of a list\n",
    "\n",
    "course=[\"C\",\"C++\",\"Python\"]\n",
    "\n",
    "print(\"total courses: \",len(course))"
   ]
  },
  {
   "cell_type": "code",
   "execution_count": 38,
   "metadata": {},
   "outputs": [
    {
     "name": "stdout",
     "output_type": "stream",
     "text": [
      "Maximum marks  : 90\n"
     ]
    }
   ],
   "source": [
    "#Python- In-built function\n",
    "#max() - used to get the maximum of a list\n",
    "\n",
    "marks=[56,78,90,34]\n",
    "print(\"Maximum marks  :\",max(marks))"
   ]
  },
  {
   "cell_type": "code",
   "execution_count": 39,
   "metadata": {},
   "outputs": [
    {
     "name": "stdout",
     "output_type": "stream",
     "text": [
      "Minimum marks  : 34\n"
     ]
    }
   ],
   "source": [
    "#Python- In-built function\n",
    "#min() - used to get the minimum of a list\n",
    "\n",
    "marks=[56,78,90,34]\n",
    "print(\"Minimum marks  :\",min(marks))"
   ]
  },
  {
   "cell_type": "code",
   "execution_count": 41,
   "metadata": {},
   "outputs": [
    {
     "name": "stdout",
     "output_type": "stream",
     "text": [
      "['C', 'C++', 'Python']\n",
      "['C', 'C++', 'Python', 'Django']\n"
     ]
    }
   ],
   "source": [
    "#Python- In-built function\n",
    "#append() - used to add an element at the end of list\n",
    "\n",
    "course=[\"C\",\"C++\",\"Python\"]\n",
    "print(course)\n",
    "course.append(\"Django\")\n",
    "print(course)"
   ]
  },
  {
   "cell_type": "code",
   "execution_count": 42,
   "metadata": {},
   "outputs": [
    {
     "name": "stdout",
     "output_type": "stream",
     "text": [
      "['C', 'C++', 'Python']\n",
      "['C', 'C++', 'Django', 'Python']\n"
     ]
    }
   ],
   "source": [
    "#Python- In-built function\n",
    "#insert() - used to add an element specific position in a list\n",
    "\n",
    "course=[\"C\",\"C++\",\"Python\"]\n",
    "print(course)\n",
    "course.insert(2,\"Django\")\n",
    "print(course)"
   ]
  },
  {
   "cell_type": "code",
   "execution_count": 43,
   "metadata": {},
   "outputs": [
    {
     "name": "stdout",
     "output_type": "stream",
     "text": [
      "list before removing :  ['C', 'C++', 'Python']\n",
      "list after removinf : ['C', 'Python']\n"
     ]
    }
   ],
   "source": [
    "#Python- In-built function\n",
    "#emove() - used to remove an element in a list\n",
    "\n",
    "course=[\"C\",\"C++\",\"Python\"]\n",
    "print(\"list before removing : \",course)\n",
    "course.remove(\"C++\")\n",
    "print(\"list after removing :\",course)"
   ]
  },
  {
   "cell_type": "code",
   "execution_count": null,
   "metadata": {},
   "outputs": [],
   "source": []
  }
 ],
 "metadata": {
  "kernelspec": {
   "display_name": "Python 3",
   "language": "python",
   "name": "python3"
  },
  "language_info": {
   "codemirror_mode": {
    "name": "ipython",
    "version": 3
   },
   "file_extension": ".py",
   "mimetype": "text/x-python",
   "name": "python",
   "nbconvert_exporter": "python",
   "pygments_lexer": "ipython3",
   "version": "3.7.4"
  }
 },
 "nbformat": 4,
 "nbformat_minor": 2
}
